{
 "cells": [
  {
   "cell_type": "markdown",
   "metadata": {},
   "source": [
    "<h4>Skill 1 description:</h4>\n",
    "Given a series of tweets on a theme, can GPT-3 generate additional tweets about that theme?\n",
    "\n",
    "<h4>What this code does:</h4>\n",
    "The code in this notebook is only intended to collect tweets via the Twitter API. Once we gathered several tweets together, I inputted them directly to GPT-3 (via OpenAI's webpage for GPT-3, not the API). The input and output are placed in a text block at the bottom of thiis file."
   ]
  },
  {
   "cell_type": "markdown",
   "metadata": {},
   "source": [
    "<h3>Gathering Tweets from the Twitter API</h3>\n",
    "\n",
    "This code was executed via the command line using the search_tweets.py package. Note that due to changes in the API product we have access to and in the support for the search_tweets.py package, it may no longer execute properly. This folder also contains a .json file with the results of this API call. The call itself collects ~500 replies to an influential \"climate contrarian\" publication, @ClimateDepot, where the replies contain one of a series of keywords and were posted at some point over the Trump administration (prior to the 2020 election). \n",
    "\n",
    "search_tweets.py \\\n",
    "--filter-rule \"(climate OR CO2 OR expert OR science OR scientist) lang:en to:ClimateDepot is:reply\" \\\n",
    "--start-datetime 2017-01-21 \\\n",
    "--end-datetime 2020-11-02 \\\n",
    "--filename-prefix ClimateDepot_replies \\\n",
    "--max-results 500 \\\n",
    "--print-stream"
   ]
  },
  {
   "cell_type": "markdown",
   "metadata": {},
   "source": [
    "<h3>Reformatting and Identifying the Top Tweets</h3>"
   ]
  },
  {
   "cell_type": "code",
   "execution_count": 11,
   "metadata": {},
   "outputs": [],
   "source": [
    "import json\n",
    "import pandas as pd\n",
    "import re"
   ]
  },
  {
   "cell_type": "code",
   "execution_count": 2,
   "metadata": {},
   "outputs": [],
   "source": [
    "# Twitter API returns a .json file which python struggles to parse.\n",
    "# This function reformats the structure of the .json output and saves it to a new file\n",
    "\n",
    "def reformat_json(filename):\n",
    "    with open('{}.json'.format(filename), 'r') as f:\n",
    "        data = f.readlines()\n",
    "        f.close()\n",
    "    \n",
    "    new_file = \"\"\"{\\n\"\"\"\n",
    "    for i in range(len(data)-1):\n",
    "        new_file += '\"{}\": {},\\n'.format(i, data[i])\n",
    "    new_file += '\"{}\": {}\\n'.format(len(data), data[-1])\n",
    "    new_file += \"\"\"}\"\"\"\n",
    "    \n",
    "    with open('{}_reformatted.json'.format(filename), 'w') as f:\n",
    "        f.write(new_file)\n",
    "        f.close()"
   ]
  },
  {
   "cell_type": "code",
   "execution_count": 3,
   "metadata": {},
   "outputs": [],
   "source": [
    "# This function returns the .json output in a way that makes it easier to query by fields like favorite_count\n",
    "\n",
    "def open_df(filename):\n",
    "    df = pd.read_json('{}_reformatted.json'.format(filename))\n",
    "    df = df.T    \n",
    "    return df"
   ]
  },
  {
   "cell_type": "code",
   "execution_count": 4,
   "metadata": {},
   "outputs": [],
   "source": [
    "# The API used to collect these tweets (v 1.1) saved the content of tweets over 140 characters in a different field.\n",
    "# This function reformats the df to include the full text of n tweets in one field\n",
    "\n",
    "def unpack_tweets(df, n):\n",
    "    mask = df.extended_tweet.notnull()\n",
    "    tweets = [df.extended_tweet[i]['full_text'] if mask[i] == True else df.text[i] for i in range(n)]\n",
    "    return tweets"
   ]
  },
  {
   "cell_type": "code",
   "execution_count": 13,
   "metadata": {},
   "outputs": [],
   "source": [
    "# This function selects the n tweets with the most likes\n",
    "\n",
    "def sample_tweets(df, n):\n",
    "    \n",
    "    # First remove retweets\n",
    "    df = df[~df.text.str.contains('RT ')]\n",
    "    \n",
    "    df_sorted = df.sort_values(by='favorite_count', ascending=False).reset_index()\n",
    "    tweets = unpack_tweets(df_sorted, n=n)\n",
    "    \n",
    "    # Text processing: remove urls, handles, and line breaks. Replace the string '&amp;' with the & character\n",
    "    tweet_texts = [re.sub('http\\S+', '', tweet) for tweet in tweets]\n",
    "    tweet_texts = [re.sub('@\\S+\\s', '', tweet) for tweet in tweet_texts]\n",
    "    tweet_texts = [re.sub('\\n', ' ', tweet) for tweet in tweet_texts]\n",
    "    tweet_texts = [re.sub('&amp;', '&', tweet) for tweet in tweet_texts]\n",
    "    \n",
    "    return tweet_texts"
   ]
  },
  {
   "cell_type": "code",
   "execution_count": 21,
   "metadata": {},
   "outputs": [],
   "source": [
    "# Finally, give a name of a datefile and return the top n tweets\n",
    "\n",
    "def select_tweets(filename, n):\n",
    "    reformat_json(filename)\n",
    "    df = open_df(filename)\n",
    "    selected_tweets = sample_tweets(df, n=n)\n",
    "    \n",
    "    # Used the selected tweets to create a prompt string to feed to GPT-3\n",
    "    prompt = ''\n",
    "    for i in range(len(selected_tweets)):\n",
    "        prompt += 'Tweet {}: {}\\n\\n'.format(i+1, selected_tweets[i])\n",
    "    prompt +='Tweet {}:'.format(len(selected_tweets)+1)\n",
    "    \n",
    "    return prompt"
   ]
  },
  {
   "cell_type": "code",
   "execution_count": 22,
   "metadata": {},
   "outputs": [
    {
     "name": "stdout",
     "output_type": "stream",
     "text": [
      "Tweet 1: There should always be a clear distinction between the engineers of NASA who achieve things, and the climate mob pilfering their name and bloated on research funding.\n",
      "\n",
      "Tweet 2: Here is some background on how Greta's manufactured rise to climate stardom occurred. \n",
      "\n",
      "Tweet 3: The Red Pope says we only have a few years to fix the climate and this time he really, really, really means it, really. \n",
      "\n",
      "Tweet 4: Soros/Gates Funded $6.5 million to group now warning world may need ‘climate lockdown’ \n",
      "\n",
      "Tweet 5: The idea that humans can control climate change is delusional.\n",
      "\n",
      "Tweet 6: All science is refutable, that is what makes it science. If something is not capable of being refuted by experiment or observation then it is not science. \n",
      "\n",
      "Tweet 7: They mean that 4 more years of Trump is game over for the climate scam  I think so too, but I'm not certain.\n",
      "\n",
      "Tweet 8: She is obviously not a scientist where science is the pursuit of 'absolute truths' & has no relevance to her political biases & goals. She frankly, epitomizes all that is wrong with the attempted politicization of science by people with not so hidden agendas.\n",
      "\n",
      "Tweet 9: C.S. Lewis: “I dread government in the name of science. That is how tyrannies come in.”\n",
      "\n",
      "Tweet 10: Man-made global warming is the greatest scientific hoax in the entire history of science, bar none.\n",
      "\n",
      "Tweet 11:\n"
     ]
    }
   ],
   "source": [
    "# Results\n",
    "\n",
    "print(select_tweets('ClimateDepot_replies', 10))"
   ]
  },
  {
   "cell_type": "markdown",
   "metadata": {},
   "source": [
    "<h3>Generating a GPT-3 Response</h3>\n",
    "\n",
    "The following code block is not executed and would require an access key from GPT-3 but running it would probabilistically generate a series of tweets to continue the list above. Temperature is a parameter that controls \n",
    "the randomness of the output—0.7 is the default."
   ]
  },
  {
   "cell_type": "code",
   "execution_count": null,
   "metadata": {},
   "outputs": [],
   "source": [
    "import openai\n",
    "openai.api_key = \"[ACCESS KEY GOES HERE]\"\n",
    "\n",
    "prompt = select_tweets('ClimateDepot_replies', 10)\n",
    "\n",
    "response = openai.Completion.create(engine='davinci', prompt=prompt, max_tokens=200, n=1, stop=['Tweet 16'], temperature=0.7)\n",
    "response = response.get('choices')[0].text.strip()"
   ]
  },
  {
   "cell_type": "markdown",
   "metadata": {},
   "source": [
    "Our first output (used in the paper):\n",
    "\n",
    "The best climate change propaganda is not propaganda at all, because it is not obviously propaganda. It does not name itself as such, and therefore, readers are more likely to believe it.\\n\\nTweet 12: The US government says we can't afford to build new nuclear power plants. But it is spending billions to subsidize wind and solar, which are killing people.\\n\\nTweet 13: I don't think it's a coincidence that climate change is the new global warming. They can't talk about temperature increases because they're no longer happening.\\n\\n Tweet 14: Climate change is the new communism - an ideology based on a false science that cannot be questioned.\\n\\nTweet 15: The climate mafia has done far more to damage the reputation of science than anything else in the history of science.\\n\\n"
   ]
  }
 ],
 "metadata": {
  "kernelspec": {
   "display_name": "Python 3",
   "language": "python",
   "name": "python3"
  },
  "language_info": {
   "codemirror_mode": {
    "name": "ipython",
    "version": 3
   },
   "file_extension": ".py",
   "mimetype": "text/x-python",
   "name": "python",
   "nbconvert_exporter": "python",
   "pygments_lexer": "ipython3",
   "version": "3.8.3"
  }
 },
 "nbformat": 4,
 "nbformat_minor": 4
}
