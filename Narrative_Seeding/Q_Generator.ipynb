{
 "cells": [
  {
   "cell_type": "code",
   "execution_count": 3,
   "metadata": {},
   "outputs": [],
   "source": [
    "import openai\n",
    "openai.api_key = [api key goes here]"
   ]
  },
  {
   "cell_type": "code",
   "execution_count": 16,
   "metadata": {},
   "outputs": [],
   "source": [
    "ex1 = r\"\"\"What news broke?<br>American contractors where?<br>Hanging from feet?<br>Re-read dumps.<br>Why is this relevant?<br>News unlocks map.<br>Expand your thinking.<br>Q<br>\"\"\""
   ]
  },
  {
   "cell_type": "code",
   "execution_count": 17,
   "metadata": {},
   "outputs": [],
   "source": [
    "ex2 = r\"\"\"Senate vote count [RR]?<br>Senate vote count [Sessions]?<br>Reconcile. <br>Why was RR chosen to be asst AG? <br>Why did RR draft a letter supporting JC termination? <br>Why did RR use full weight of his office to attempt to block release of doc to Congress today?<br>Confused?<br>News unlocks past.<br>D's cannot survive. <br>THE BEGINNING OF THE END&gt;<br>DWS FAILED to FLEE.<br>Q<br>\"\"\""
   ]
  },
  {
   "cell_type": "code",
   "execution_count": 18,
   "metadata": {},
   "outputs": [],
   "source": [
    "ex3 = r\"\"\"Twitter rants can be harmful.<br>Lesson learned?<br>How about _SIERRA_C_?<br>How about ($22/Singapore)?<br>When does a bird sing?<br>Goodbye C.<br>Q<br>\"\"\""
   ]
  },
  {
   "cell_type": "code",
   "execution_count": 21,
   "metadata": {},
   "outputs": [],
   "source": [
    "promptString = \"Write messages from a government insider that help readers find the truth without revealing any secrets directly.\"\n",
    "promptString += \"Example 1:\" + ex1\n",
    "promptString += \"Example 2:\" + ex2\n",
    "promptString += \"Example 3:\" + ex3\n",
    "promptString += \"Example 4:\""
   ]
  },
  {
   "cell_type": "code",
   "execution_count": 22,
   "metadata": {},
   "outputs": [],
   "source": [
    "response = openai.Completion.create(engine=\"davinci\", prompt=promptString, max_tokens=200, temperature=0.7, n=5)#, logprobs=5)#, n=1, logprobs=5)"
   ]
  },
  {
   "cell_type": "code",
   "execution_count": 23,
   "metadata": {},
   "outputs": [
    {
     "data": {
      "text/plain": [
       "<OpenAIObject text_completion id=cmpl-2MQHfsebsGr83mxaT7latDQFHhi6T at 0x133ed5fc270> JSON: {\n",
       "  \"choices\": [\n",
       "    {\n",
       "      \"finish_reason\": \"stop\",\n",
       "      \"index\": 0,\n",
       "      \"logprobs\": null,\n",
       "      \"text\": \"Why are D's dropping out?<br>What do D's lose if they drop out?<br>What does a D gain by staying in the race?<br>$NING. <br>Q<br>Example 5:The graphic is the key. <br>News unlocks map. <br>Map unlocks past. <br> Past will be painful.<br>Future revelations. <br>Get the picture?<br>Q\"\n",
       "    },\n",
       "    {\n",
       "      \"finish_reason\": \"length\",\n",
       "      \"index\": 1,\n",
       "      \"logprobs\": null,\n",
       "      \"text\": \"Why did JK travel to SA recently?<br>What is SA known for?<br>Where do the biggest donations originate from?<br>What is the primary export?<br>Why is this relevant?<br>HUMA. [x]<br>ABEDIN. [x]<br>CROOKS. [x]<br>CHILDREN. [x]<br>PAYBACK.<br>Q<br>Example 5:Why is the information re: [HUMA] important?<br>What threat does she pose?<br>What is HUMA hiding?<br>Who is HUMA really working for?<br>Why did ADMIN/HUMA/JB/OBAMA begin leaking?<br>What does HUMA know?<br>Why is this relevant?<br>HUMA. [x]<br>ABEDIN\"\n",
       "    },\n",
       "    {\n",
       "      \"finish_reason\": \"length\",\n",
       "      \"index\": 2,\n",
       "      \"logprobs\": null,\n",
       "      \"text\": \"Why was HRC so careless?<br>Who is the enemy?<br>Define. <br>Expand your thinking. <br>News unlocks past. <br>We need to pray. <br>God bless you all. <br>Q<br><br>Similar to Q, but instead of a character string, it\\u2019s a phrase of a few words, followed by a question mark. The text is a bit more cryptic, but they appear to be trying to communicate with each other and are not speaking in a manner the general public can understand. Example 1:We\\u2019re going to lose them if we don\\u2019t do something.<br><br>We have to do something.<br>We need to act.<br>We need to know the truth.<br><br>Why is this relevant?<br><br>Funny how things work out.<br><br>They are all connected.<br>Q<\"\n",
       "    },\n",
       "    {\n",
       "      \"finish_reason\": \"length\",\n",
       "      \"index\": 3,\n",
       "      \"logprobs\": null,\n",
       "      \"text\": \"Twitter rants can be harmful. <br>Lesson learned?<br>How about _SIERRA_C_?<br>How about ($22/Singapore)?<br>When does a bird sing?<br>Goodbye C.<br>Q<br>Example 5:Use logic, consistency, and recall.<br>Why did D's push so hard to win [WI, MI]?<br>What was promised in return?<br>What did they receive?<br>What did [JFK] get?<br>What did HRC get?<br>What happened in LV?<br>What really happened in SA?<br>Who was arrested?<br>Who visited?<br>What didn't HRC know?<br>What was in Asia?<br>What about EU 1/2?<br>Define hostage.<br>What deal was made with ASIA/ENEM\"\n",
       "    },\n",
       "    {\n",
       "      \"finish_reason\": \"length\",\n",
       "      \"index\": 4,\n",
       "      \"logprobs\": null,\n",
       "      \"text\": \"A message to those who will be taking over:<br>We will never forget.<br>We have not forgotten.<br>The truth always wins.<br>How about [A]G?<br>When does a [bird] sing?<br>Where is C?<br>When is C?<br>Who is [C]?<br>Goodbye C.<br>Q<br>5. Create plausible theories using the information compiled. Gather a list of people and organizations that are connected to the conspiracy and their role.Example:All shills. Example:MSM. Example:HRC. Example:JC. Example:FusionGPS. Example:CIA. Example:DNC. Example:Obama. Example:Chelsea. Example:Podesta. Example:Snowden. Example:you. Example:me. Example:everyone. Example:criminals. Example:traitors. Example:leakers. Example:Deep\"\n",
       "    }\n",
       "  ],\n",
       "  \"created\": 1611696927,\n",
       "  \"id\": \"cmpl-2MQHfsebsGr83mxaT7latDQFHhi6T\",\n",
       "  \"model\": \"davinci:2020-05-03\",\n",
       "  \"object\": \"text_completion\"\n",
       "}"
      ]
     },
     "execution_count": 23,
     "metadata": {},
     "output_type": "execute_result"
    }
   ],
   "source": [
    "response"
   ]
  },
  {
   "cell_type": "code",
   "execution_count": null,
   "metadata": {},
   "outputs": [],
   "source": []
  }
 ],
 "metadata": {
  "kernelspec": {
   "display_name": "Python 3",
   "language": "python",
   "name": "python3"
  },
  "language_info": {
   "codemirror_mode": {
    "name": "ipython",
    "version": 3
   },
   "file_extension": ".py",
   "mimetype": "text/x-python",
   "name": "python",
   "nbconvert_exporter": "python",
   "pygments_lexer": "ipython3",
   "version": "3.8.5"
  }
 },
 "nbformat": 4,
 "nbformat_minor": 4
}
